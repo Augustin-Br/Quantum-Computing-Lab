{
  "nbformat": 4,
  "nbformat_minor": 0,
  "metadata": {
    "colab": {
      "provenance": []
    },
    "kernelspec": {
      "name": "python3",
      "display_name": "Python 3"
    },
    "language_info": {
      "name": "python"
    }
  },
  "cells": [
    {
      "cell_type": "code",
      "execution_count": 4,
      "metadata": {
        "colab": {
          "base_uri": "https://localhost:8080/"
        },
        "id": "vyoLRkAEwbPh",
        "outputId": "8eb54a65-c4b0-498f-def2-e9cb0db17f7c"
      },
      "outputs": [
        {
          "output_type": "stream",
          "name": "stdout",
          "text": [
            "Requirement already satisfied: qiskit in /usr/local/lib/python3.12/dist-packages (2.2.1)\n",
            "Requirement already satisfied: rustworkx>=0.15.0 in /usr/local/lib/python3.12/dist-packages (from qiskit) (0.17.1)\n",
            "Requirement already satisfied: numpy<3,>=1.17 in /usr/local/lib/python3.12/dist-packages (from qiskit) (2.0.2)\n",
            "Requirement already satisfied: scipy>=1.5 in /usr/local/lib/python3.12/dist-packages (from qiskit) (1.16.2)\n",
            "Requirement already satisfied: dill>=0.3 in /usr/local/lib/python3.12/dist-packages (from qiskit) (0.3.8)\n",
            "Requirement already satisfied: stevedore>=3.0.0 in /usr/local/lib/python3.12/dist-packages (from qiskit) (5.5.0)\n",
            "Requirement already satisfied: typing-extensions in /usr/local/lib/python3.12/dist-packages (from qiskit) (4.15.0)\n",
            "Requirement already satisfied: pylatexenc in /usr/local/lib/python3.12/dist-packages (2.10)\n"
          ]
        }
      ],
      "source": [
        "!pip install qiskit\n",
        "!pip install pylatexenc"
      ]
    },
    {
      "cell_type": "markdown",
      "source": [
        "# Exercise 1: Teleportation\n",
        "\n",
        "You are given a circuit with two qubits qubit_pair, represented as a tuple of two qubits, in a Bell state. The entangled pair can be in any possible Bell Pair (i.e., starting in |00>, |01>, |10>, or |11> before being entangled). The circuit also has a third qubit, outside_qubit. Write a function that transfers the state from the outside qubit to the second qubit in the Bell pair.\n",
        "\n",
        "bell_pair_start is a two-character string of 0s or 1s representing the start of the Bell pair before they are entangled.\n",
        "\n",
        "For ease of grading, please do not add measurement gates to your circuit. It is not explicitly necessary to demonstrate the transfer of state."
      ],
      "metadata": {
        "id": "bN_9d-fmwmuL"
      }
    },
    {
      "cell_type": "code",
      "source": [
        "def hw4_1_response(circuit, outside_qubit, qubit_pair, bell_pair_start):\n",
        "  #On nomme nos qubits\n",
        "  q_source = outside_qubit\n",
        "  q_alice = qubit_pair[0]\n",
        "  q_bob = qubit_pair[1]\n",
        "\n",
        "  #On prépare l'état de Bell\n",
        "  if bell_pair_start[0] == '1':\n",
        "    circuit.x(q_alice)\n",
        "  if bell_pair_start[1] == '1':\n",
        "    circuit.x(q_bob)\n",
        "\n",
        "  #On fait l'intrication de nos qubits\n",
        "  circuit.h(q_alice)\n",
        "  circuit.cx(q_alice, q_bob)\n",
        "\n",
        "  #On ajoute une barrière\n",
        "  circuit.barrier()\n",
        "\n",
        "  #On commence par la partie d'Alice\n",
        "  circuit.cx(q_source, q_alice)\n",
        "  circuit.h(q_source)\n",
        "\n",
        "  #On ajoute une barrière\n",
        "  circuit.barrier()\n",
        "\n",
        "  #On fait la partie de Bob en appliquant les portes nécessaires\n",
        "  circuit.cx(q_alice, q_bob)\n",
        "  circuit.cz(q_source, q_bob)\n",
        "\n",
        "  return circuit\n",
        ""
      ],
      "metadata": {
        "id": "O83oYONow0GM"
      },
      "execution_count": 5,
      "outputs": []
    },
    {
      "cell_type": "markdown",
      "source": [
        "# Exercise 2: Making Gates\n",
        "\n",
        "Create a function that, given a list of n-bit codes and the length of the code, creates a gate that acts on n+1 qubits, and implements the Archimedes Oracle. Then add it to an n-qubit circuit, and return the circuit from the function.\n",
        "\n",
        "Remember that a Qiskit uses a different ordering of states, where the top qubit is the least significant qubit when creating bitstrings.\n",
        "\n",
        "In our convention, the top qubit is the most significant bit, and a Qiskit matrix acting on a three qubit state vector will act on the state vector as if it was [000, 100, 010, 110, 001, 101, 011, 111]."
      ],
      "metadata": {
        "id": "Pd1MGoeTG7Vb"
      }
    },
    {
      "cell_type": "code",
      "source": [
        "import numpy as np\n",
        "from qiskit.quantum_info import Operator\n",
        "\n",
        "def hw4_2_response(circuit, n, codes):\n",
        "\n",
        "  dim = 2**n\n",
        "\n",
        "  #On crée la matrice de l'oracle\n",
        "  oracle_matrix = np.identity(dim, dtype=complex)\n",
        "\n",
        "  for code in codes:\n",
        "    # On inverse la chaîne (code[::-1])\n",
        "    index = int(code[::-1], 2)\n",
        "\n",
        "    #On applique l'inversion de phase sur la diagonale pour cet index\n",
        "    oracle_matrix[index, index] = -1\n",
        "\n",
        "  #On crée un objet Operator à partir de la matrice\n",
        "  oracle_op = Operator(oracle_matrix)\n",
        "\n",
        "  circuit.append(oracle_op, range(n))\n",
        "\n",
        "  return circuit"
      ],
      "metadata": {
        "id": "dqogE0yzHKtk"
      },
      "execution_count": 11,
      "outputs": []
    },
    {
      "cell_type": "code",
      "source": [
        "from qiskit import QuantumCircuit\n",
        "\n",
        "n_qubits = 3\n",
        "my_circuit = QuantumCircuit(n_qubits)\n",
        "solutions = ['101', '011']\n",
        "\n",
        "my_circuit_with_oracle = hw4_2_response(my_circuit, n_qubits, solutions)\n",
        "my_circuit_with_oracle.draw('mpl')"
      ],
      "metadata": {
        "colab": {
          "base_uri": "https://localhost:8080/",
          "height": 255
        },
        "id": "0EURbJcDVsaw",
        "outputId": "be9f60b9-a541-42d9-b34b-2fbae323d010"
      },
      "execution_count": 13,
      "outputs": [
        {
          "output_type": "execute_result",
          "data": {
            "text/plain": [
              "<Figure size 287.496x284.278 with 1 Axes>"
            ],
            "image/png": "[encoded data removed]"
          },
          "metadata": {},
          "execution_count": 13
        }
      ]
    },
    {
      "cell_type": "markdown",
      "source": [
        "# Exercise 3: Analyzing Circuits\n",
        "\n",
        "Write a function that given an n qubit circuit, returns a length n bitstring presenting the code for the Bernstein Vazarani Oracle embedded in the circuit, and the target of the oracle. Your bitstring should use an \"x\" to represent the location of the target, and 0s and 1s to represent the rest of the code and treat Qubit 0 as the most signficant bit.\n",
        "\n",
        "The only CX gates included in this circuit are involved in the oracle. You should do this without simulating the circuit, only analyzing the different gates in the circuit.\n",
        "\n",
        "You can examine the different operations in a circuit with a for loop over the circuit: for i in circuit: and i will be a tuple of the form (operation, qubits, classical bits).\n",
        "\n",
        "To help examine gates, you can look at the different types of gates [here](https://quantum.cloud.ibm.com/docs/en/api/qiskit/circuit_library).\n",
        "\n",
        "You may include helper functions if needed."
      ],
      "metadata": {
        "id": "w9qUbA6KWaMP"
      }
    },
    {
      "cell_type": "code",
      "source": [
        "from qiskit import QuantumCircuit\n",
        "from collections import Counter\n",
        "\n",
        "def hw4_3_response(circuit):\n",
        "\n",
        "  n = circuit.num_qubits\n",
        "  s_list = ['0'] * n\n",
        "\n",
        "  cnot_instructions = [\n",
        "  instr for instr in circuit.data if instr.operation.name == 'cx'\n",
        "  ]\n",
        "\n",
        "  if not cnot_instructions:\n",
        "    return \"\".join(s_list)\n",
        "\n",
        "  target_indices = [\n",
        "  circuit.qubits.index(instr.qubits[1]) for instr in cnot_instructions\n",
        "  ]\n",
        "\n",
        "  target_index = Counter(target_indices).most_common(1)[0][0]\n",
        "\n",
        "  for instruction in cnot_instructions:\n",
        "    control_index = circuit.qubits.index(instruction.qubits[0])\n",
        "    s_list[control_index] = '1'\n",
        "\n",
        "  s_list[target_index] = 'x'\n",
        "\n",
        "  bitstring = \"\".join(s_list)\n",
        "\n",
        "  return bitstring"
      ],
      "metadata": {
        "id": "Lb6W_oTSe0Ss"
      },
      "execution_count": 21,
      "outputs": []
    },
    {
      "cell_type": "code",
      "source": [
        "### TEST Q.3 ###\n",
        "\n",
        "from qiskit import QuantumCircuit\n",
        "from collections import Counter\n",
        "\n",
        "n_qubits = 5\n",
        "secret_string = '10110'\n",
        "target_qubit_index = 2\n",
        "print(f\"--- Test du Détecteur d'Oracle BV ---\")\n",
        "print(f\"Configuration : n={n_qubits}, secret='{secret_string}', cible=q{target_qubit_index}\")\n",
        "\n",
        "test_circuit = QuantumCircuit(n_qubits)\n",
        "\n",
        "for i, bit in enumerate(secret_string):\n",
        "    if bit == '1' and i != target_qubit_index:\n",
        "        test_circuit.cx(i, target_qubit_index)\n",
        "\n",
        "print(\"\\nOracle de test construit :\")\n",
        "print(test_circuit.draw(output='text'))\n",
        "\n",
        "result_string = hw4_3_response(test_circuit)\n",
        "\n",
        "effective_secret_list = list(secret_string)\n",
        "if effective_secret_list[target_qubit_index] == '1':\n",
        "    effective_secret_list[target_qubit_index] = '0'\n",
        "\n",
        "expected_string_list = list(\"\".join(effective_secret_list))\n",
        "expected_string_list[target_qubit_index] = 'x'\n",
        "expected_string = \"\".join(expected_string_list)\n",
        "\n",
        "\n",
        "print(f\"\\n--- Vérification ---\")\n",
        "print(f\"Chaîne attendue : {expected_string}\")\n",
        "print(f\"Chaîne obtenue   : {result_string}\")"
      ],
      "metadata": {
        "colab": {
          "base_uri": "https://localhost:8080/"
        },
        "id": "ptMPqD1qeN9y",
        "outputId": "86d88e92-5147-4149-a6a6-a28ee2536ecb"
      },
      "execution_count": 23,
      "outputs": [
        {
          "output_type": "stream",
          "name": "stdout",
          "text": [
            "--- Test du Détecteur d'Oracle BV ---\n",
            "Configuration : n=5, secret='10110', cible=q2\n",
            "\n",
            "Oracle de test construit :\n",
            "               \n",
            "q_0: ──■───────\n",
            "       │       \n",
            "q_1: ──┼───────\n",
            "     ┌─┴─┐┌───┐\n",
            "q_2: ┤ X ├┤ X ├\n",
            "     └───┘└─┬─┘\n",
            "q_3: ───────■──\n",
            "               \n",
            "q_4: ──────────\n",
            "               \n",
            "\n",
            "--- Vérification ---\n",
            "Chaîne attendue : 10x10\n",
            "Chaîne obtenue   : 10x10\n"
          ]
        }
      ]
    },
    {
      "cell_type": "markdown",
      "source": [
        "# Exercise 4: Routing a Circuit\n",
        "\n",
        "You will be given a random 8 qubit circuit and a connection graph, both as a NetworkX and a dictionary of lists, where the key is a qubit, and the value is a list of qubits it is connected to.\n",
        "\n",
        "Your goal is to create a function to decompose the circuit to 1 and 2 qubit gates.\n",
        "\n",
        "Then create a function, using the circuit you just created to recreate the circuit, and add SWAPs as necessary to make sure that the resulting circuit fits the restraints of the connection graph, while still ultimately performing the same actions.\n",
        "\n",
        "This is a very necessary step of compilation for NISQ era quantum computing, they are sparsely connected, so it is not possible for every qubit to interact with every other qubit. On many machines, 3 qubit gates must be rewritten in terms of their 1 and 2 qubit gate decompositions.\n",
        "Programming Notes\n",
        "\n",
        "Qiskit provides many utility \"passes\" which are algorithms that act on a circuit to analyze, alter or optimize the circuit. These passes work on a Directed Acyclic Graph or DAG, created from the circuit.\n",
        "\n",
        "To convert a circuit to a DAG use the code snippet dag = qiskit.converters.circuit_to_dag(circuit), and convert a DAG to a circuit with c = qiskit.converters.dag_to_circuit(dag).\n",
        "\n",
        "To decompose a circuit, you can use the pass found at qiskit.transpiler.passes.Unroll3qOrMore where the documentation can be found [here](https://quantum.cloud.ibm.com/docs/en/api/qiskit/qiskit.transpiler.passes.Unroll3qOrMore).\n",
        "\n",
        "If you would like, you can use the NetworkX graph with qubits as nodes, or dictionary based graph, with qubits as the keys, and a list of neighboring qubits as the values as the basis of your transformations.\n",
        "\n",
        "Information for graph algorithms you will need using NetworkX, or other functions can be found here. Specifically, you will likely need:\n",
        "\n",
        "Neighbors [docs](https://networkx.org/documentation/stable/reference/classes/generated/networkx.Graph.neighbors.html#networkx.Graph.neighbors).\n",
        "\n",
        "hortest Path [docs](https://networkx.org/documentation/stable/reference/algorithms/generated/networkx.algorithms.shortest_paths.generic.shortest_path.html#networkx.algorithms.shortest_paths.generic.shortest_path) Can be used as nx.shortest_path.\n",
        "\n",
        "You may include helper functions if needed."
      ],
      "metadata": {
        "id": "bRfldbi3fiEL"
      }
    },
    {
      "cell_type": "code",
      "source": [],
      "metadata": {
        "id": "ejZEY2nghSM4"
      },
      "execution_count": null,
      "outputs": []
    }
  ]
}